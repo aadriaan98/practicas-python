{
 "cells": [
  {
   "cell_type": "markdown",
   "metadata": {},
   "source": [
    "***\n",
    "# <center>Switch en Python</center>\n",
    "***\n",
    "\n",
    "El switch es una herramienta que nos permite ejecutar diferentes secciones de código dependiendo de una condición. Aunque Python no tiene un switch propiamente dicho, podemos simular su comportamiento de varias formas. A continuación, exploraremos una forma de emular un switch en Python utilizando un diccionario.\n",
    "\n",
    "### Introducción al switch  \n",
    "En Python, utilizamos estructuras if, else y elif para ejecutar código basado en condiciones.  \n",
    "\n",
    "Por ejemplo:"
   ]
  },
  {
   "cell_type": "code",
   "execution_count": 1,
   "metadata": {},
   "outputs": [
    {
     "name": "stdout",
     "output_type": "stream",
     "text": [
      "No se ingreso una opcion correcta.\n"
     ]
    }
   ],
   "source": [
    "\n",
    "while True:\n",
    "    condicion = int(input(\"Ingrese un numero del 1 .. 3: \"))\n",
    "    if condicion == 1:\n",
    "        print(\"Hacer a\")\n",
    "    elif condicion == 2:\n",
    "        print(\"Hacer b\")\n",
    "    elif condicion == 3:\n",
    "        print(\"Hacer c\")\n",
    "    else:\n",
    "        print(\"No se ingreso una opcion correcta.\")\n",
    "        break"
   ]
  },
  {
   "cell_type": "markdown",
   "metadata": {},
   "source": [
    "### Simulando el switch con diccionarios  \n",
    "\n",
    "Podemos simular un switch en Python utilizando un diccionario. A continuación, mostraremos cómo convertir el código if/elif anterior en un equivalente utilizando un diccionario:"
   ]
  },
  {
   "cell_type": "code",
   "execution_count": null,
   "metadata": {},
   "outputs": [],
   "source": [
    "condicion = 2\n",
    "\n",
    "acciones = {\n",
    "    1: \"Hacer a\",\n",
    "    2: \"Hacer b\",\n",
    "    3: \"Hacer c\"\n",
    "}\n",
    "\n",
    "resultado = acciones.get(condicion, \"Hacer d\")\n",
    "print(resultado)"
   ]
  },
  {
   "cell_type": "markdown",
   "metadata": {},
   "source": [
    "En este ejemplo, creamos un diccionario acciones donde las claves son las condiciones y los valores son las acciones correspondientes.  \n",
    "\n",
    "Utilizamos el método .get() para obtener la acción asociada con la condición dada. Si la condición no se encuentra en el diccionario, se ejecuta la acción por defecto.\n",
    "\n",
    "Esta técnica nos permite lograr un comportamiento similar al de un switch en otros lenguajes de programación.\n",
    "\n",
    "### Ventajas y desventajas  \n",
    "\n",
    "Ventajas del switch simulado con diccionarios:\n",
    "\n",
    "- Puede ser más eficiente en términos de tiempo de ejecución cuando hay muchas condiciones.  \n",
    "\n",
    "- Puede hacer que el código sea más legible y organizado en comparación con múltiples bloques if/elif/else.\n",
    "\n",
    "Desventajas del switch simulado con diccionarios:\n",
    "\n",
    "- Requiere la creación de un diccionario adicional.  \n",
    "\n",
    "- No ofrece todas las características de un switch en lenguajes como C++ o Java."
   ]
  }
 ],
 "metadata": {
  "kernelspec": {
   "display_name": "Python 3",
   "language": "python",
   "name": "python3"
  },
  "language_info": {
   "codemirror_mode": {
    "name": "ipython",
    "version": 3
   },
   "file_extension": ".py",
   "mimetype": "text/x-python",
   "name": "python",
   "nbconvert_exporter": "python",
   "pygments_lexer": "ipython3",
   "version": "3.10.4"
  },
  "orig_nbformat": 4
 },
 "nbformat": 4,
 "nbformat_minor": 2
}
