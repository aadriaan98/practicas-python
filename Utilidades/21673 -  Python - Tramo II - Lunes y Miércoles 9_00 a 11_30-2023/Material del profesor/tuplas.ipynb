{
 "cells": [
  {
   "cell_type": "markdown",
   "metadata": {},
   "source": [
    "# Tuplas\n",
    "\n",
    "las tuplas consisten en un conjunto de objetos ordenados que pueden ser de cualquier tipo, es decir:\n",
    "strings, listas, diccionarios, tuplas, etc...\n",
    "\n",
    "Se puede acceder a cada elemento mediante un índice.\n",
    "\n",
    "Las tuplas son inmutables. Una vez se crea una tupla, no se puede cambiar ni su contenido ni su tamaño, \n",
    "a menos que se haga una copia de la tupla.\n",
    "\n",
    "Se escriben entre paréntesis ()\n",
    "\n",
    "Es importante señalar que las tuplas almacenan referencias de los objetos que contienen.\n",
    "\n",
    "#### Veamos como se definiría una tupla sencilla:"
   ]
  },
  {
   "cell_type": "code",
   "execution_count": 1,
   "metadata": {},
   "outputs": [
    {
     "name": "stdout",
     "output_type": "stream",
     "text": [
      "Tipo de q es:  <class 'int'>\n",
      "tup: (1, 2, 3, 5, 5, 7)\n",
      "tup: (1, 2, 3, 5, 5, 7)\n",
      "Tipo de tup: <class 'tuple'>\n",
      "largo de tup:  6\n",
      "(31, 'prog', 4.0)\n",
      "(31, 'prog', 4.0, 3, 4, 5, 'pepe', 'cadena', (31, 'prog', 4.0))\n",
      "<class 'tuple'>\n"
     ]
    }
   ],
   "source": [
    "q = 5\n",
    "print(\"Tipo de q es: \",type(q))\n",
    "\n",
    "una_tup =  1,2,3,q,5,7\n",
    "\n",
    "print(\"tup:\",una_tup)\n",
    "\n",
    "q = 100\n",
    "\n",
    "print(\"tup:\",una_tup)\n",
    "\n",
    "print(\"Tipo de tup:\",type(una_tup))\n",
    "print(\"largo de tup: \",len(una_tup))\n",
    "\n",
    "tup = (31,'prog',4.0)\n",
    "print(tup)\n",
    "\n",
    "tup1 = 31,'prog',4.0,3,4,5,\"pepe\",\"cadena\",tup\n",
    "print(tup1)\n",
    "print(type(tup1))"
   ]
  },
  {
   "cell_type": "markdown",
   "metadata": {},
   "source": [
    "## Operaciones con tuplas\n",
    "\n",
    "### Concatenación\n",
    "\n",
    "Si queremos concatenar dos tuplas, simplemente debemos escribir el operador +"
   ]
  },
  {
   "cell_type": "code",
   "execution_count": null,
   "metadata": {},
   "outputs": [],
   "source": [
    "tupla1 = (1,2,3,4,5)\n",
    "print(\"tupla1: \",tupla1)\n",
    "\n",
    "tupla2 = (6,7,8,9,10,\"perro\")\n",
    "print(\"tupla2: \",tupla2)\n",
    "\n",
    "tupla_concatenada = tupla1 + tupla2\n",
    "print(\"tupla_concatenada: \",tupla_concatenada)\n",
    "\n",
    "a = (1,)\n",
    "\n",
    "tupla2 += (33,)\n",
    "tupla2 = tupla2 + (33,)\n",
    "\n",
    "print(\"tula2:\",tupla2)"
   ]
  },
  {
   "cell_type": "markdown",
   "metadata": {},
   "source": [
    "### Repetición\n",
    "\n",
    "La repetición de tuplas se puede llevar a cabo mediante el uso del operador *. \n",
    "\n",
    "Si se quiere repetir el contenido de la tupla tres veces...."
   ]
  },
  {
   "cell_type": "code",
   "execution_count": 2,
   "metadata": {},
   "outputs": [
    {
     "name": "stdout",
     "output_type": "stream",
     "text": [
      "tupla1:  (1, 2, 3, 4, 5)\n",
      "tupla3:  (1, 2, 3, 4, 5, 1, 2, 3, 4, 5, 1, 2, 3, 4, 5, 1, 2, 3, 4, 5, 1, 2, 3, 4, 5, 1, 2, 3, 4, 5)\n"
     ]
    }
   ],
   "source": [
    "\n",
    "tupla1 = (1,2,3,4,5)\n",
    "print(\"tupla1: \",tupla1)\n",
    "a = 5\n",
    "tupla3 = tupla1 * (a+1)\n",
    "print(\"tupla3: \",tupla3)"
   ]
  },
  {
   "cell_type": "markdown",
   "metadata": {},
   "source": [
    "### Comprobar elementos\n",
    "\n",
    "Para comprobar si un elemento existe en la tupla, hay que utilizar la palabra clave in"
   ]
  },
  {
   "cell_type": "code",
   "execution_count": 8,
   "metadata": {},
   "outputs": [
    {
     "name": "stdout",
     "output_type": "stream",
     "text": [
      "12\n",
      "7\n"
     ]
    }
   ],
   "source": [
    "def maximo_int(*args)->int:\n",
    "    pude_encontrar_enteros = False\n",
    "    maximo = -float('inf')\n",
    "    for elemento in args:\n",
    "        if isinstance(elemento,int):\n",
    "            pude_encontrar_enteros = True\n",
    "            if elemento > maximo:\n",
    "                maximo = elemento\n",
    "    \n",
    "    if not pude_encontrar_enteros:\n",
    "        maximo = None\n",
    "    return maximo\n",
    "\n",
    "print(max(1,2,7,9,7,8,4,12,4))\n",
    "print(maximo_int('4','papa','6',7,1))"
   ]
  },
  {
   "cell_type": "code",
   "execution_count": 9,
   "metadata": {},
   "outputs": [
    {
     "name": "stdout",
     "output_type": "stream",
     "text": [
      "tupla1 (1, 2, 333, 4, 15, 'www') (www in tupla1) True\n",
      "EL TIPO  DE RESPUESTA ES:  <class 'bool'>\n",
      "(1, 2, 333, 4, 15, 'www') True\n",
      "NO ESTA!!!!!\n",
      "tupla de cadenas:  ('pepe', 'perro', 'z')\n"
     ]
    }
   ],
   "source": [
    "tupla1 = (1,2,333,4,15,\"www\")\n",
    "\n",
    "resp = \"www\" in tupla1\n",
    "\n",
    "print(\"tupla1\",tupla1,\"(www in tupla1)\",resp)\n",
    "\n",
    "\n",
    "print(\"EL TIPO  DE RESPUESTA ES: \",type(resp))\n",
    "\n",
    "print(tupla1,resp)\n",
    "\n",
    "\n",
    "if 111 in tupla1:\n",
    "    print(\"El 111 esta!!\") \n",
    "else:\n",
    "    print(\"NO ESTA!!!!!\")    \n",
    "\n",
    "\n",
    "tup_cad = \"pepe\",\"perro\",\"z\"\n",
    "\n",
    "print(\"tupla de cadenas: \",tup_cad)\n",
    "\n",
    "\n",
    "#print(maximo_int(tup_cad) ) \n",
    "\n",
    "#print(max((1,2,3,4,5,2)))"
   ]
  },
  {
   "cell_type": "markdown",
   "metadata": {},
   "source": [
    "### Buscar\n",
    "\n",
    "Si queremos saber en qué índice está localizado un valor concreto hay que usar index y nos devolverá el índice donde se encuentra. \n",
    "\n",
    "Ojo!! Si no esta el valor nos da error!!"
   ]
  },
  {
   "cell_type": "code",
   "execution_count": null,
   "metadata": {},
   "outputs": [],
   "source": [
    "tupla1 = (1,2,3,4,5)\n",
    "#         0 1 2 3 4\n",
    "print(tupla1)\n",
    "print(tupla1.index(5))\n",
    "\n",
    "\n",
    "#print(tupla1.index(11))\n",
    "\n",
    "if 11 in tupla1:\n",
    "    print(tupla1.index(11))\n",
    "else:\n",
    "    print(\"El 11 No esta!!!\")\n"
   ]
  },
  {
   "cell_type": "markdown",
   "metadata": {},
   "source": [
    "### len()\n",
    "para obtener el largo de una tupla"
   ]
  },
  {
   "cell_type": "code",
   "execution_count": 10,
   "metadata": {},
   "outputs": [
    {
     "name": "stdout",
     "output_type": "stream",
     "text": [
      "tupla1 (1, 2, 3, 4, 5) Largo de tupla1: 5\n",
      "el numero 5 dentro de la tupla (1, 2, 3, 4, 5) esta en la pos: 4\n"
     ]
    }
   ],
   "source": [
    "tupla1 = (1,2,3,4,5)\n",
    "print(\"tupla1\",tupla1,\"Largo de tupla1:\",len(tupla1))\n",
    "print(f\"el numero { len(tupla1)} dentro de la tupla {tupla1} esta en la pos: {tupla1.index(  len(tupla1)   )}\")"
   ]
  },
  {
   "cell_type": "markdown",
   "metadata": {},
   "source": [
    "### cont()\n",
    "\n",
    "Para contar el número de veces que un elemento existe en la tupla se usa la método count(). "
   ]
  },
  {
   "cell_type": "code",
   "execution_count": 11,
   "metadata": {},
   "outputs": [
    {
     "name": "stdout",
     "output_type": "stream",
     "text": [
      "tupla3:  (65, 67, 5, 67, 34, 76, 67, 231, 98, 67) El valor 67 esta 4  veces en la tupla\n"
     ]
    }
   ],
   "source": [
    "tupla3 = (65,67,5,67,34,76,67,231,98,67)\n",
    "print(\"tupla3: \",tupla3,\"El valor 67 esta\",tupla3.count(67),\" veces en la tupla\")\n"
   ]
  },
  {
   "cell_type": "markdown",
   "metadata": {},
   "source": [
    "### sum()\n",
    "\n",
    "Suma el contenido de la tupla"
   ]
  },
  {
   "cell_type": "code",
   "execution_count": null,
   "metadata": {},
   "outputs": [],
   "source": [
    "tupla3 = (65,67,5,67,34,76,67,231,98,67)\n",
    "print(\"La suma de la tupla\",tupla3,\"es\",sum(tupla3))\n",
    "\n",
    "t = (1,2,\"a\",1)\n",
    "#print(t,\"suma de t:\",sum(t))==> Error = TypeError: unsupported operand type(s) for +: 'int' and 'str'"
   ]
  },
  {
   "cell_type": "markdown",
   "metadata": {},
   "source": [
    "### max()\n",
    "\n",
    "Retorna el Máximo de la tupla"
   ]
  },
  {
   "cell_type": "code",
   "execution_count": null,
   "metadata": {},
   "outputs": [],
   "source": [
    "print(\"El máximo de la tupla\",tupla3,\"es\",max(tupla3))"
   ]
  },
  {
   "cell_type": "code",
   "execution_count": 12,
   "metadata": {},
   "outputs": [
    {
     "name": "stdout",
     "output_type": "stream",
     "text": [
      "1\n"
     ]
    }
   ],
   "source": [
    "print(    max(     (1,)     )     )"
   ]
  },
  {
   "cell_type": "code",
   "execution_count": 13,
   "metadata": {},
   "outputs": [
    {
     "name": "stdout",
     "output_type": "stream",
     "text": [
      "<class 'str'>\n",
      "Fecha: 01/03/2021\n",
      "((1, 1, 1456), (8, 5, 2000), (11, 3, 2021))\n",
      "fecha:01/01/1456\n",
      "fecha:08/05/2000\n",
      "fecha:11/03/2021\n"
     ]
    }
   ],
   "source": [
    "d,m,a = (1,3,2021)\n",
    "cadena = \"Fecha: {:02d}/{:02d}/{:4d}\".format(d,m,a)\n",
    "print(type(cadena))\n",
    "cadena = f\"Fecha: {d:02d}/{m:02d}/{a:4d}\"\n",
    "print(\"Fecha: {:02d}/{:02d}/{:4d}\".format(d,m,a))\n",
    "tupla_fechas = (   (1,1,1456),    (8,5,2000),   (11,3,2021)   )\n",
    "print(tupla_fechas)\n",
    "for d,m,a in tupla_fechas:\n",
    "    #PARA CADA TUPLA ==> FECHA\n",
    "    #print(f\"{d}/{m}/{a}\")\n",
    "    print(\"fecha:{:02d}/{:02d}/{:4d}\".format(d,m,a))\n"
   ]
  }
 ],
 "metadata": {
  "kernelspec": {
   "display_name": "Python 3",
   "language": "python",
   "name": "python3"
  },
  "language_info": {
   "codemirror_mode": {
    "name": "ipython",
    "version": 3
   },
   "file_extension": ".py",
   "mimetype": "text/x-python",
   "name": "python",
   "nbconvert_exporter": "python",
   "pygments_lexer": "ipython3",
   "version": "3.10.4"
  }
 },
 "nbformat": 4,
 "nbformat_minor": 4
}
