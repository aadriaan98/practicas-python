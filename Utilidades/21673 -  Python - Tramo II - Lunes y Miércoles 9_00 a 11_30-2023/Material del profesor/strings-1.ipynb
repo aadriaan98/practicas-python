{
 "cells": [
  {
   "cell_type": "markdown",
   "metadata": {},
   "source": [
    "***\n",
    "# <center>Strings en Python</center>\n",
    "***"
   ]
  },
  {
   "cell_type": "markdown",
   "metadata": {},
   "source": [
    "### Creación de Cadenas\n",
    "\n",
    "Para crear una cadena en Python, simplemente coloca el texto entre comillas simples (' '), comillas dobles (\" \"), o comillas triples (''' ''' o \"\"\" \"\"\"). \n",
    "\n",
    "Veamos algunos ejemplos:"
   ]
  },
  {
   "cell_type": "code",
   "execution_count": null,
   "metadata": {},
   "outputs": [],
   "source": [
    "cadena1 = \"Hola, mundo!\"\n",
    "print(cadena1)\n",
    "cadena2 = 'Python es genial'\n",
    "print(cadena2)\n",
    "cadena3 = '''Este es un ejemplo\n",
    "de cadena multilinea'''\n",
    "print(cadena3)"
   ]
  },
  {
   "cell_type": "markdown",
   "metadata": {},
   "source": [
    "Se pueden crear cadenas usando str() de la siguiente manera:    "
   ]
  },
  {
   "cell_type": "code",
   "execution_count": null,
   "metadata": {},
   "outputs": [],
   "source": [
    "cadena1 = str(123)\n",
    "print(cadena1)\n",
    "cadena2 = str(123.45)\n",
    "print(cadena2)\n",
    "cadena3 = str('123')\n",
    "print(cadena3)\n",
    "cadena4 = str('123.45')\n",
    "print(cadena4)"
   ]
  },
  {
   "cell_type": "markdown",
   "metadata": {},
   "source": [
    "### Acceso a Caracteres\n",
    "\n",
    "Se puede acceder a caracteres individuales de una cadena utilizando índices. Recordemos que en Python, los índices comienzan desde 0. Veamos cómo acceder a caracteres:"
   ]
  },
  {
   "cell_type": "code",
   "execution_count": null,
   "metadata": {},
   "outputs": [],
   "source": [
    "cadena = \"Python\"\n",
    "print(cadena)\n",
    "primer_caracter = cadena[0]  # Devuelve 'P'\n",
    "print(f\"primer_caracter: {primer_caracter}\")\n",
    "segundo_caracter = cadena[1]  # Devuelve 'y'\n",
    "print(f\"segundo_caracter: {segundo_caracter}\")"
   ]
  },
  {
   "cell_type": "markdown",
   "metadata": {},
   "source": [
    "### Longitud de una Cadena\n",
    "\n",
    "Se puede obtener la longitud de una cadena utilizando la función len().  \n",
    "Esta función devuelve el número de caracteres de la cadena."
   ]
  },
  {
   "cell_type": "code",
   "execution_count": null,
   "metadata": {},
   "outputs": [],
   "source": [
    "cadena = \"Python\"\n",
    "longitud = len(cadena)  # Devuelve 6\n",
    "print(f\"La longitud de la cadena '{cadena}' es {longitud}\")"
   ]
  },
  {
   "cell_type": "markdown",
   "metadata": {},
   "source": [
    "### Concatenación de Cadenas  \n",
    "\n",
    "Se Puede unir (concatenar) dos cadenas utilizando el operador +:"
   ]
  },
  {
   "cell_type": "code",
   "execution_count": null,
   "metadata": {},
   "outputs": [],
   "source": [
    "cadena1 = \"Hola\"\n",
    "print(f\"La cadena1 es: {cadena1}\")\n",
    "cadena2 = \"Mundo\"\n",
    "print(f\"La cadena2 es: {cadena2}\")\n",
    "saludo = cadena1 + \" \" + cadena2  # Devuelve \"Hola Mundo\"\n",
    "print(f\"La cadena concatenada es: {saludo}\")"
   ]
  },
  {
   "cell_type": "markdown",
   "metadata": {},
   "source": [
    "### Repetición de Cadenas  \n",
    "\n",
    "Se puede repetir una cadena varias veces utilizando el operador *:"
   ]
  },
  {
   "cell_type": "code",
   "execution_count": null,
   "metadata": {},
   "outputs": [],
   "source": [
    "cadena = \"Python\"\n",
    "print(f\"cadena: {cadena}\")\n",
    "repetida = cadena * 3  # Devuelve \"PythonPythonPython\"\n",
    "print(f\"La cadena repetida 3 veces: {repetida}\")\n"
   ]
  },
  {
   "cell_type": "markdown",
   "metadata": {},
   "source": [
    "### Principales Métodos de Cadenas  \n",
    "\n",
    "Python proporciona una variedad de métodos para trabajar con cadenas. Veamos algunos de los más comunes:\n",
    "\n",
    "#### upper() y lower()  \n",
    "\n",
    "Estos métodos permiten cambiar una cadena a mayúsculas o minúsculas, respectivamente:"
   ]
  },
  {
   "cell_type": "code",
   "execution_count": null,
   "metadata": {},
   "outputs": [],
   "source": [
    "cadena = \"PyThOn\"\n",
    "print(f\"cadena: {cadena}\")\n",
    "mayusculas = cadena.upper()  # Devuelve \"PYTHON\"\n",
    "print(f\"mayusculas: {mayusculas}\")\n",
    "minusculas = cadena.lower()  # Devuelve \"python\"\n",
    "print(f\"minusculas: {minusculas}\")"
   ]
  },
  {
   "cell_type": "markdown",
   "metadata": {},
   "source": [
    "#### strip(), lstrip(), y rstrip()\n",
    "\n",
    "Estos métodos eliminan espacios en blanco al principio y al final de una cadena:"
   ]
  },
  {
   "cell_type": "code",
   "execution_count": null,
   "metadata": {},
   "outputs": [],
   "source": [
    "cadena = \"   Python   \"\n",
    "print(f\"La cadena original es: '{cadena}'\")\n",
    "print(f\"cadena.strip() = '{cadena.strip()}'\")\n",
    "print(f\"cadena.lstrip() = '{cadena.lstrip()}'\")\n",
    "print(f\"cadena.rstrip() = '{cadena.rstrip()}'\")"
   ]
  },
  {
   "cell_type": "markdown",
   "metadata": {},
   "source": [
    "#### split()\n",
    "\n",
    "Este método divide una cadena en una lista de subcadenas basadas en un separador:"
   ]
  },
  {
   "cell_type": "code",
   "execution_count": null,
   "metadata": {},
   "outputs": [],
   "source": [
    "cadena = \"Manzana,Plátano,Uva\"\n",
    "print(f\"cadena: {cadena}\")\n",
    "frutas = cadena.split(\",\")  # Devuelve ['Manzana', 'Plátano', 'Uva']\n",
    "print(f\"frutas: {frutas}\")"
   ]
  },
  {
   "cell_type": "markdown",
   "metadata": {},
   "source": [
    "#### join()\n",
    "\n",
    "Este método une elementos de una lista en una sola cadena, utilizando el separador especificado:"
   ]
  },
  {
   "cell_type": "code",
   "execution_count": null,
   "metadata": {},
   "outputs": [],
   "source": [
    "frutas = ['Manzana', 'Plátano', 'Uva']\n",
    "print(f\"frutas: {frutas}\")\n",
    "cadena1 = \".\".join(frutas)  # Devuelve \"Manzana.Plátano.Uva\"\n",
    "print(f'\".\".join(frutas) : {cadena1}')\n",
    "cadena2 = \" \".join(frutas)  # Devuelve \"Manzana Plátano Uva\"\n",
    "print(f'\" \".join(frutas) : {cadena2}')\n",
    "cadena3 = \" - \".join(frutas)  # Devuelve \"Manzana - Plátano - Uva\"\n",
    "print(f'\" - \".join(frutas) : {cadena3}')\n"
   ]
  },
  {
   "cell_type": "markdown",
   "metadata": {},
   "source": [
    "#### replace()\n",
    "\n",
    "Este método reemplaza todas las ocurrencias de una subcadena con otra:"
   ]
  },
  {
   "cell_type": "code",
   "execution_count": null,
   "metadata": {},
   "outputs": [],
   "source": [
    "cadena = \"Hola Mundo\"\n",
    "print(f\"La cadena es: {cadena}\")\n",
    "print(\"Reemplazando Mundo por Python\")\n",
    "nueva_cadena = cadena.replace(\"Mundo\", \"Python\")  # Devuelve \"Hola Python\"\n",
    "print(f\"La nueva cadena es: {nueva_cadena}\")\n"
   ]
  },
  {
   "cell_type": "markdown",
   "metadata": {},
   "source": [
    "#### find() y index()\n",
    "\n",
    "Ambos métodos se utilizan para encontrar la posición de una subcadena en una cadena:"
   ]
  },
  {
   "cell_type": "code",
   "execution_count": null,
   "metadata": {},
   "outputs": [],
   "source": [
    "cadena = \"Python es genial\"\n",
    "print(f\"La cadena es: {cadena}\")\n",
    "pos1 = cadena.find(\"es\")  # Devuelve 7\n",
    "print(f'cadena.find(\"es\") {pos1}')\n",
    "pos2 = cadena.index(\"genial\")  # Devuelve 12\n",
    "print(f'cadena.index(\"genial\") {pos2}')"
   ]
  },
  {
   "cell_type": "markdown",
   "metadata": {},
   "source": [
    "#### count()\n",
    "Este método cuenta cuántas veces aparece una subcadena en una cadena:"
   ]
  },
  {
   "cell_type": "code",
   "execution_count": null,
   "metadata": {},
   "outputs": [],
   "source": [
    "cadena = \"La vida es bella y la belleza es efímera belleza\"\n",
    "print(f\"La cadena es: {cadena}\")\n",
    "contador = cadena.count(\"belleza\")  # Devuelve 2\n",
    "print(f'cadena.count(\"belleza\") {contador}')\n"
   ]
  },
  {
   "cell_type": "markdown",
   "metadata": {},
   "source": [
    "#### Formateo de Cadenas con el Método format()\n",
    "\n",
    "El método format() se utiliza para insertar valores en una cadena utilizando marcadores de posición ({}) que indican dónde deben ir los valores\n",
    "\n",
    "1. Marcadores de Posición  \n",
    "se puede usar marcadores de posición dentro de una cadena para especificar dónde se deben insertar los valores. Los marcadores de posición se representan como llaves {} en la cadena.\n",
    "\n",
    "Ejemplo:"
   ]
  },
  {
   "cell_type": "code",
   "execution_count": null,
   "metadata": {},
   "outputs": [],
   "source": [
    "nombre = \"Marisa\"\n",
    "edad = 30\n",
    "mensaje = \"Hola, {}! Tienes {} años.\".format(nombre, edad)\n",
    "print(mensaje)"
   ]
  },
  {
   "cell_type": "markdown",
   "metadata": {},
   "source": [
    "2. Índices en Marcadores de Posición  \n",
    "Se puede utilizar índices numéricos dentro de los marcadores de posición para especificar el orden en el que se insertarán los valores. Esto es útil cuando se tienen varios valores para insertar y se quiere controlar su ubicación.\n",
    "\n",
    "Ejemplo:"
   ]
  },
  {
   "cell_type": "code",
   "execution_count": null,
   "metadata": {},
   "outputs": [],
   "source": [
    "nombre = \"Ernesto\"\n",
    "edad = 30\n",
    "mensaje = \"Hola, {1}! Tienes {0} años.\".format(edad, nombre)\n",
    "print(mensaje)"
   ]
  },
  {
   "cell_type": "markdown",
   "metadata": {},
   "source": [
    "3. Nombres en Marcadores de Posición  \n",
    "Se puede asignar nombres a los marcadores de posición y luego utilizarlos para insertar los valores. Esto facilita la comprensión del propósito de cada marcador.\n",
    "\n",
    "Ejemplo:"
   ]
  },
  {
   "cell_type": "code",
   "execution_count": null,
   "metadata": {},
   "outputs": [],
   "source": [
    "info = {\"nombre\": \"Raimundo\", \"edad\": 22}\n",
    "mensaje = \"Hola, {nombre}! Tienes {edad} años.\".format(**info)\n",
    "print(mensaje)"
   ]
  },
  {
   "cell_type": "markdown",
   "metadata": {},
   "source": [
    "4. Formateo Avanzado  \n",
    "Se puede especificar el formato de los valores dentro de los marcadores de posición utilizando sintaxis similar a la de las cadenas de formato en C. Por ejemplo, se puede controlar la precisión de los números decimales o la longitud de las cadenas.\n",
    "\n",
    "Ejemplo:"
   ]
  },
  {
   "cell_type": "code",
   "execution_count": null,
   "metadata": {},
   "outputs": [],
   "source": [
    "precio = 19.99\n",
    "mensaje = \"El precio es: {:.2f}\".format(precio)\n",
    "print(mensaje)\n",
    "nombre_articulo = \"Camisa de cuadros\"\n",
    "cadena_de_cincuenta_caracteres = \"{:40}{:10.2f}\".format(nombre_articulo, precio)\n",
    "print(cadena_de_cincuenta_caracteres)\n",
    "print(\"Largo de la cadena: \", len(cadena_de_cincuenta_caracteres))"
   ]
  },
  {
   "cell_type": "markdown",
   "metadata": {},
   "source": [
    "#### F-Strings (Fórmulas Literales de Cadenas)  \n",
    "Las f-strings son una característica introducida en Python 3.6 que simplifica el formateo de cadenas al permitir la interpolación de variables directamente en una cadena, precedida por una 'f' o 'F'.\n",
    "\n",
    "1. Sintaxis Básica  \n",
    "Se usa una f-string precedida por 'f' o 'F' y colocando las variables entre llaves {} dentro de la cadena.\n",
    "\n",
    "Ejemplo:"
   ]
  },
  {
   "cell_type": "code",
   "execution_count": null,
   "metadata": {},
   "outputs": [],
   "source": [
    "nombre = \"Pablo Eduardo\"\n",
    "edad = 30\n",
    "mensaje = f\"Hola, {nombre}! Tienes {edad} años.\"\n",
    "print(mensaje)"
   ]
  },
  {
   "cell_type": "markdown",
   "metadata": {},
   "source": [
    "2. Expresiones dentro de F-Strings  \n",
    "Se puede incluir expresiones dentro de las llaves {} para realizar cálculos u operaciones antes de insertar el valor en la cadena.\n",
    "\n",
    "Ejemplo:"
   ]
  },
  {
   "cell_type": "code",
   "execution_count": null,
   "metadata": {},
   "outputs": [],
   "source": [
    "numero = 5\n",
    "mensaje = f\"El doble de {numero} es {numero * 2}.\"\n",
    "print(mensaje)"
   ]
  }
 ],
 "metadata": {
  "kernelspec": {
   "display_name": "Python 3",
   "language": "python",
   "name": "python3"
  },
  "language_info": {
   "codemirror_mode": {
    "name": "ipython",
    "version": 3
   },
   "file_extension": ".py",
   "mimetype": "text/x-python",
   "name": "python",
   "nbconvert_exporter": "python",
   "pygments_lexer": "ipython3",
   "version": "3.10.4"
  },
  "orig_nbformat": 4
 },
 "nbformat": 4,
 "nbformat_minor": 2
}
