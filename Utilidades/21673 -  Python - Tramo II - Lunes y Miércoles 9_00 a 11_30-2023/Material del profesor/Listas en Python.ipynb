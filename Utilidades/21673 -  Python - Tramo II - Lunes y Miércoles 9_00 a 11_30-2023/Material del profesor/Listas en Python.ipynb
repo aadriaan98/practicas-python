{
 "cells": [
  {
   "cell_type": "markdown",
   "metadata": {},
   "source": [
    "\n",
    "# Listas De Python\n",
    "\n",
    "Las listas en Python son una secuencia de valores los cuales pueden ser de cualquier tipo, cadenas, números, floats, contenido mixto o lo que sea. \n",
    "Hablaremos sobre las funciones de listas de Python y cómo crear, agregar elementos, agregar al final, invertir y muchas otras funciones de listas de Python.\n",
    "\n",
    "Las listas en Python son un tipo contenedor, compuesto, que se usan para almacenar conjuntos de elementos relacionados del mismo tipo o de tipos distintos.\n",
    "\n",
    "Junto a las clases tuple, range y str, son uno de los tipos de secuencia en Python, con la particularidad de que __son mutables__. Esto último quiere decir que su contenido se puede modificar después de haber sido creada.\n",
    "\n",
    "Para crear una lista en Python, simplemente hay que encerrar una secuencia de elementos separados por comas entre paréntesis cuadrados [].\n",
    "## Crear listas en Python\n",
    "\n",
    "Para crear una lista Python, encierra los elementos a utilizar entre corchetes como se muestra a continuación:"
   ]
  },
  {
   "cell_type": "code",
   "execution_count": 1,
   "metadata": {},
   "outputs": [
    {
     "name": "stdout",
     "output_type": "stream",
     "text": [
      "(1, 4, 56, 7, 89)\n",
      "tupla (2, 3, 'pepe', 2.33, (1, 2, 3))\n"
     ]
    }
   ],
   "source": [
    "numero = 3\n",
    "\n",
    "numeros = 1,4,56,7,89\n",
    "\n",
    "print(numeros)\n",
    "\n",
    "tupla = ( 2,3,\"pepe\",2.33,(1,2,3) )\n",
    "#              0123        0 1 2\n",
    "#index  = 0 1   2     3     4    \n",
    "\n",
    "#tupla[2] = \"jxjkaX\" ==> Error\n",
    "\n",
    "print(\"tupla\",tupla)\n",
    "\n",
    "\n"
   ]
  },
  {
   "cell_type": "code",
   "execution_count": 2,
   "metadata": {},
   "outputs": [
    {
     "name": "stdout",
     "output_type": "stream",
     "text": [
      "lista_tupla: [2, 3, 'pepe', 2.33, (1, 2, 3)]\n",
      "Lista [2, 3, 'pepe', 2.33, (1, 2, 3)]\n",
      "Lista [2, 3, 'agshag', 2.33, (1, 2, 3)]\n",
      "2\n",
      "s\n",
      "Lista 1 [1, 2, 3, 4, 5]\n",
      "Lista 2 ['M', 'i', ' ', 'm', 'a', 'm', 'a', ' ', 'm', 'e', ' ', 'm', 'i', 'm', 'a']\n",
      "lista 3 [123, 'pepe', 56, 2.5, [1, 3, 4, 5]]\n",
      "lista3[4][1]: 3\n",
      "lista_interna [1, 3, 4, 5]\n"
     ]
    }
   ],
   "source": [
    "lista_tupla = list(tupla)\n",
    "\n",
    "print(f'lista_tupla: {lista_tupla}')\n",
    "\n",
    "lista = [ 2,3,\"pepe\",2.33,(1,2,3) ]\n",
    "#              0123        0 1 2\n",
    "#index  = 0 1    2    3     4\n",
    "print(\"Lista\",lista)\n",
    "lista[2] = \"agshag\"\n",
    "print(\"Lista\",lista)\n",
    "print(lista[4][1])\n",
    "print(lista[2][2])\n",
    "\n",
    "\n",
    "lista1 = list(  (1,2,3,4,5)  )#uso el constructor de la clase lista\n",
    "print(\"Lista 1\",lista1)\n",
    "\n",
    "lista2 = list(\"Mi mama me mima\")\n",
    "print(\"Lista 2\",lista2)\n",
    "\n",
    "lista3 = [  123,\"pepe\",56,2.5,[1,3,4,5] ]\n",
    "print(\"lista 3\",lista3)\n",
    "\n",
    "print(f'lista3[4][1]: {lista3[4][1]}')\n",
    "\n",
    "lista_interna = lista3[4]\n",
    "print(f'lista_interna {lista_interna}')"
   ]
  },
  {
   "cell_type": "code",
   "execution_count": 3,
   "metadata": {},
   "outputs": [
    {
     "name": "stdout",
     "output_type": "stream",
     "text": [
      "Rosa Esposito\n",
      "[(10101, 'Juan Perez y Perez', 9.5), (23456, 'Rosa Esposito', 10.0), (22226, 'Ana Aroldo', 10.0), (18226, 'Jose Aroldo', 2.0), (44226, 'Pedro Aroldo', 6.0)]\n"
     ]
    }
   ],
   "source": [
    "legajo = 10101\n",
    "nombre = \"Juan Perez y Perez\"\n",
    "nota = 9.5\n",
    "\n",
    "alumno = (legajo,nombre,nota)\n",
    "#index      0      1     2\n",
    "\n",
    "curso = [] # CREO UNA LISTA VACIA!!\n",
    "\n",
    "curso.append(alumno)\n",
    "curso.append(   (23456,\"Rosa Esposito\",10.0)      )\n",
    "curso.append(   (22226,\"Ana Aroldo\",10.0)      )\n",
    "curso.append(   (18226,\"Jose Aroldo\",2.0)      )\n",
    "curso.append(   (44226,\"Pedro Aroldo\",6.0)      )\n",
    "\n",
    "print(f'{curso[1][1]}')\n",
    "\n",
    "print(curso)\n",
    "\n"
   ]
  },
  {
   "cell_type": "code",
   "execution_count": 4,
   "metadata": {},
   "outputs": [
    {
     "name": "stdout",
     "output_type": "stream",
     "text": [
      "--------------------------------------------------------------------------------\n",
      "                            Listado de alumnos de 4°                            \n",
      "--------------------------------------------------------------------------------\n",
      "Legajo:      10101 Nombre: Juan Perez y Perez             Nota:     9.50\n",
      "Legajo:      23456 Nombre: Rosa Esposito                  Nota:    10.00\n",
      "Legajo:      22226 Nombre: Ana Aroldo                     Nota:    10.00\n",
      "Legajo:      18226 Nombre: Jose Aroldo                    Nota:     2.00\n",
      "Legajo:      44226 Nombre: Pedro Aroldo                   Nota:     6.00\n",
      "--------------------------------------------------------------------------------\n"
     ]
    }
   ],
   "source": [
    "print(\"-\"*80)\n",
    "print(\"Listado de alumnos de 4°\".center(80))\n",
    "print(\"-\"*80)\n",
    "\n",
    "for alumno in curso:\n",
    "    print(f'Legajo: {alumno[0]:10} Nombre: {alumno[1]:30} Nota: {alumno[2]:8.2f}')\n",
    "print(\"-\"*80)\n"
   ]
  },
  {
   "cell_type": "markdown",
   "metadata": {},
   "source": [
    "La lista podría ser cadenas de caracteres como esta:"
   ]
  },
  {
   "cell_type": "code",
   "execution_count": 5,
   "metadata": {},
   "outputs": [
    {
     "name": "stdout",
     "output_type": "stream",
     "text": [
      "['one', 'two', 'three', 'four', 'five']\n"
     ]
    }
   ],
   "source": [
    "lista = ['one', 'two', 'three', 'four', 'five']\n",
    "print(lista)"
   ]
  },
  {
   "cell_type": "markdown",
   "metadata": {},
   "source": [
    "Podemos mezclar los tipos de elementos como se muestra:"
   ]
  },
  {
   "cell_type": "code",
   "execution_count": 6,
   "metadata": {},
   "outputs": [
    {
     "name": "stdout",
     "output_type": "stream",
     "text": [
      "['one', 20, 5.5, [10, 15], 'five']\n"
     ]
    }
   ],
   "source": [
    "lista = ['one', 20 , 5.5 , [10, 15], 'five']\n",
    "print(lista)"
   ]
  },
  {
   "cell_type": "markdown",
   "metadata": {},
   "source": [
    "Además, existen listas anidadas, lo que significa que puede haber listas dentro de listas como en el ejemplo anterior.\n",
    "\n",
    "También, podemos acceder a cualquier elemento de la lista por su __índice__ empezando desde cero.\n"
   ]
  },
  {
   "cell_type": "code",
   "execution_count": 7,
   "metadata": {},
   "outputs": [
    {
     "name": "stdout",
     "output_type": "stream",
     "text": [
      "five\n",
      "['one', 20, 5.5, [10, 15], 'five']\n",
      "liasta:['jashjkachjhcjhsajchajs', 20, 5.5, [10, 15], 'five']\n"
     ]
    }
   ],
   "source": [
    "lista = ['one', 20 , 5.5 , [10, 15], 'five']\n",
    "#indice    0    1     2        3        4\n",
    "\n",
    "un_elemento = lista[4]\n",
    "\n",
    "print(un_elemento)\n",
    "\n",
    "print(lista)\n",
    "\n",
    "lista[0] = \"jashjkachjhcjhsajchajs\"\n",
    "print(f'liasta:{lista}')"
   ]
  },
  {
   "cell_type": "markdown",
   "metadata": {},
   "source": [
    "## Listas mutables\n",
    "\n",
    "Las listas son mutables porque los elementos se pueden cambiar o reordenar.\n",
    "\n",
    "Si tenemos una lista como la siguiente: "
   ]
  },
  {
   "cell_type": "code",
   "execution_count": 8,
   "metadata": {},
   "outputs": [
    {
     "name": "stdout",
     "output_type": "stream",
     "text": [
      "['one', 'two', 'three', 'four', 'five']\n"
     ]
    }
   ],
   "source": [
    "lista = ['one', 'two', 'three', 'four', 'five']\n",
    "print(lista) "
   ]
  },
  {
   "cell_type": "markdown",
   "metadata": {},
   "source": [
    "Podemos cambiar el tercer elemento de la siguiente forma:"
   ]
  },
  {
   "cell_type": "code",
   "execution_count": 9,
   "metadata": {},
   "outputs": [
    {
     "name": "stdout",
     "output_type": "stream",
     "text": [
      "['one', 'two', 55, 'four', 'five']\n"
     ]
    }
   ],
   "source": [
    "lista[2] = 55\n",
    "print(lista)"
   ]
  },
  {
   "cell_type": "markdown",
   "metadata": {},
   "source": [
    "Si el índice es negativo, cuenta desde el último elemento.\n"
   ]
  },
  {
   "cell_type": "code",
   "execution_count": 10,
   "metadata": {},
   "outputs": [
    {
     "name": "stdout",
     "output_type": "stream",
     "text": [
      "Cantidad 5\n",
      "Ultimo 4\n",
      "five\n"
     ]
    }
   ],
   "source": [
    "lista = ['one', 'two', 'three', 'four', 'five']\n",
    "#indice    0      1       2        3      4\n",
    "\n",
    "cantidad_elementos = len( lista )\n",
    "print(\"Cantidad\",cantidad_elementos)\n",
    "\n",
    "ultimo = len(lista)-1\n",
    "print(\"Ultimo\",ultimo)\n",
    "\n",
    "elemento = lista[ultimo] #TOMO EL CONTENIDO DE LA LISTA EN LA POSICION ULTIMO\n",
    "print(elemento)"
   ]
  },
  {
   "cell_type": "markdown",
   "metadata": {},
   "source": [
    "## Recorrer una lista\n",
    "\n",
    "Se pueden leer los elementos de la lista utilizando un ciclo for de la siguiente forma:"
   ]
  },
  {
   "cell_type": "code",
   "execution_count": 12,
   "metadata": {},
   "outputs": [],
   "source": [
    "\n",
    "lista = ['one', 2,4,'two', 'three', 1.23,'four', 'five',123,[1,2,3]]\n",
    "\n"
   ]
  },
  {
   "cell_type": "code",
   "execution_count": 13,
   "metadata": {},
   "outputs": [
    {
     "name": "stdout",
     "output_type": "stream",
     "text": [
      "one  no es un numero\n",
      "2  es un numero\n",
      "4  es un numero\n",
      "two  no es un numero\n",
      "three  no es un numero\n",
      "1.23  es un numero\n",
      "four  no es un numero\n",
      "five  no es un numero\n",
      "123  es un numero\n",
      "[1, 2, 3]  no es un numero\n",
      "----------------------------------------------------------------------------------------------------\n"
     ]
    }
   ],
   "source": [
    "for elem in lista:# PARA CADA ELEMENTO EN LA LISTA\n",
    "    if isinstance(elem,(int,float)): # if type(elem) in (int,float):\n",
    "        print(elem,\" es un numero\")\n",
    "    else:\n",
    "        print(elem,\" no es un numero\" )\n",
    "print('-'*100)\n"
   ]
  },
  {
   "cell_type": "code",
   "execution_count": 14,
   "metadata": {},
   "outputs": [
    {
     "name": "stdout",
     "output_type": "stream",
     "text": [
      "[1, 2, 3, 4, 5, 6, 7, 8, 9, 10, 10000000]\n"
     ]
    }
   ],
   "source": [
    "lista = [1,2,3,4,5,6,7,8,9,10]\n",
    "numero = int(input(\"Ingrese un numero: \"))\n",
    "lista.append(numero)\n",
    "print(lista)"
   ]
  },
  {
   "cell_type": "markdown",
   "metadata": {},
   "source": [
    "### PARA ELIMINAR ELEMENTOS DE UNA LISTA DURANTE EL RECORRIDO SE USA UN CICLO WHILE!!!!!"
   ]
  },
  {
   "cell_type": "code",
   "execution_count": 18,
   "metadata": {},
   "outputs": [
    {
     "name": "stdout",
     "output_type": "stream",
     "text": [
      "lista: [3, 4, 1, 1, 1, 5, 6, 7, 1, 8, 9, 1, 1, 1] len(lista): 14\n",
      "lista: [3, 4, 5, 6, 7, 8, 9] len(lista): 7\n",
      "lista: [3, 5, 8, 9] len(lista): 4\n"
     ]
    }
   ],
   "source": [
    "def eliminar_todos_otra(lista,cuales):\n",
    "    x = 0\n",
    "    while x < len(lista):\n",
    "        if lista[x] in cuales:\n",
    "            lista.pop(x)\n",
    "        else:\n",
    "            x += 1    \n",
    "\n",
    "\n",
    "def eliminar_todos(lista,cual):\n",
    "    x = 0\n",
    "    while x < len(lista):\n",
    "        if lista[x] == cual:\n",
    "            lista.pop(x)\n",
    "        else:\n",
    "            x += 1    \n",
    "\n",
    "\n",
    "lista = [3,4,1,1,1,5,6,7,1,8,9,1,1,1]\n",
    "# index  0 1 2 3 4 5 6 7 8 9 0 1 2 3     \n",
    "# #                          1 1 1 1     \n",
    "#                        x\n",
    "# len(lista) ==> 14\n",
    "print(f\"lista: {lista} len(lista): {len(lista)}\")\n",
    "\n",
    "eliminar_todos(lista,1)\n",
    "\n",
    "print(f\"lista: {lista} len(lista): {len(lista)}\")\n",
    "\n",
    "eliminar_todos_otra(lista,(4,6,7))\n",
    "\n",
    "print(f\"lista: {lista} len(lista): {len(lista)}\")\n",
    "\n",
    "\n"
   ]
  },
  {
   "cell_type": "markdown",
   "metadata": {},
   "source": [
    "### NO SE USA UN CICLO FOR PARA ELIMINAR DURANTE EL RECORRIDO"
   ]
  },
  {
   "cell_type": "code",
   "execution_count": 19,
   "metadata": {},
   "outputs": [
    {
     "name": "stdout",
     "output_type": "stream",
     "text": [
      "[1, 2, 3, 4, 5, 6, 7, 1, 1, 1, 8, 1, 1, 9, 10]\n",
      "[2, 3, 4, 5, 6, 7, 8, 1, 1, 9, 10]\n"
     ]
    }
   ],
   "source": [
    "\n",
    "\n",
    "lista = [1,2,3,4,5,6,7,1,1,1,8,1,1,9,10]\n",
    "print(lista)\n",
    "for elemento in lista:\n",
    "    if elemento == 1:\n",
    "        lista.remove(elemento)\n",
    "print(lista)"
   ]
  },
  {
   "cell_type": "code",
   "execution_count": 20,
   "metadata": {},
   "outputs": [
    {
     "name": "stdout",
     "output_type": "stream",
     "text": [
      "2  es un numero\n",
      "3  es un numero\n",
      "4  es un numero\n",
      "5  es un numero\n",
      "6  es un numero\n",
      "7  es un numero\n",
      "8  es un numero\n",
      "1  es un numero\n",
      "1  es un numero\n",
      "9  es un numero\n",
      "10  es un numero\n",
      "----------------------------------------------------------------------------------------------------\n"
     ]
    }
   ],
   "source": [
    "for index in range(len(lista)):#PARA CADA INDICE DE LA LISTA\n",
    "    if type(lista[index]) in [int,float]:\n",
    "        print(lista[index],\" es un numero\")\n",
    "    else:\n",
    "        print(lista[index],\" no es un numero\" )\n",
    "print('-'*100)"
   ]
  },
  {
   "cell_type": "code",
   "execution_count": 21,
   "metadata": {},
   "outputs": [
    {
     "name": "stdout",
     "output_type": "stream",
     "text": [
      "enumerate(lista): <enumerate object at 0x000001F4B0291DC0>\n",
      "[(0, 'a'), (1, 1), (2, 1), (3, 1), (4, [1, 2, 3]), (5, 'jkdgjkacgsmn')]\n",
      "lista[0] = a\n",
      "lista[1] = 1\n",
      "lista[2] = 1\n",
      "lista[3] = 1\n",
      "lista[4] = [1, 2, 3]\n",
      "lista[5] = jkdgjkacgsmn\n",
      "----------------------------------------------------------------------------------------------------\n"
     ]
    }
   ],
   "source": [
    "lista = ['a',1,1,1,[1,2,3],\"jkdgjkacgsmn\"]\n",
    "\n",
    "print(f'enumerate(lista): {enumerate(lista)}')\n",
    "\n",
    "print(list(enumerate(lista)))\n",
    "\n",
    "for index,elemento in enumerate(lista):\n",
    "    print(f'lista[{index}] = {elemento}')\n",
    "print('-'*100)       \n"
   ]
  },
  {
   "cell_type": "markdown",
   "metadata": {},
   "source": [
    "De esta manera se pueden leer los elementos de la lista y actualizarlos:"
   ]
  },
  {
   "cell_type": "code",
   "execution_count": null,
   "metadata": {},
   "outputs": [],
   "source": [
    "lista = [1, 2, 3, 4, 5]\n",
    "# i      0  1  2  3  4\n",
    "\n",
    "print(lista)\n",
    "\n",
    "x = list(range(len(lista)))\n",
    "\n",
    "print(\"range(len(lista)): \", range(len(lista)) )\n",
    "print(\"list(range()): \", x )\n",
    "\n",
    "for i in range(len(lista)):\n",
    "    lista[i] += 5\n",
    "\n",
    "print(lista)\n",
    "\n",
    "for numero in lista:\n",
    "    numero +=5 #¿SI LO MODIFICO? \n",
    "    print(type(numero),numero) \n",
    "\n",
    "print(lista)\n",
    "\n",
    "x = 0\n",
    "while x < len(lista):\n",
    "    lista[x] +=  5\n",
    "    x += 1\n",
    "print(lista)"
   ]
  },
  {
   "cell_type": "code",
   "execution_count": null,
   "metadata": {},
   "outputs": [],
   "source": [
    "lista = [1, 2, 3, 4, 5]\n",
    "print(lista)\n",
    "for i in range(len(lista)):\n",
    "    lista[i] = 0\n",
    "print(lista)"
   ]
  },
  {
   "cell_type": "markdown",
   "metadata": {},
   "source": [
    "La función len ( ) se utiliza para devolver la cantidad de elementos, mientras que la función range () devuelve la lista de índices.\n",
    "Una lista anidada se considera un elemento, independientemente de cuántos elementos contenga."
   ]
  },
  {
   "cell_type": "code",
   "execution_count": null,
   "metadata": {},
   "outputs": [],
   "source": [
    "lista = ['one', 20 , 5.5 , [10, 15,2,3,4,66,5], 'five']\n",
    "#index     0     1    2            3              4\n",
    "print(len(lista))"
   ]
  },
  {
   "cell_type": "markdown",
   "metadata": {},
   "source": [
    "## Cortar una lista\n",
    "\n",
    "Puede cortar una lista usando el operador (:) de esta manera:"
   ]
  },
  {
   "cell_type": "code",
   "execution_count": null,
   "metadata": {},
   "outputs": [],
   "source": [
    "lista = ['aaa', 'bbb', 'ccc', 'ddd', 'eee']\n",
    "#index:    0      1       2     3      4\n",
    "print(f'lista: {lista}')\n",
    "\n",
    "print(f'lista[1:3] = {lista[1:3]}')\n",
    "\n",
    "otra = lista[1:3]\n",
    "\n",
    "print(f'otra = {otra}')\n",
    "\n",
    "for x in range(1,3):\n",
    "    print(lista[x])"
   ]
  },
  {
   "cell_type": "markdown",
   "metadata": {},
   "source": [
    "Si eliminas el primer número, los elementos comenzaran desde el principio. Si eliminas el segundo número, los elementos irán al final.\n",
    "Si eliminas ambos números y permanecen los dos puntos, la lista se copiará.."
   ]
  },
  {
   "cell_type": "code",
   "execution_count": null,
   "metadata": {},
   "outputs": [],
   "source": [
    "lista = ['aaa', 'bbb', 'ccc', 'ddd', 'eee']\n",
    "#index     0      1      2      3      4 \n",
    "\n",
    "print(lista[1:3])\n",
    "print(lista[1:])\n",
    "print(lista[:3])\n",
    "lista_copia = lista[:] #copia la lista\n",
    "print(lista_copia)\n",
    "\n",
    "listax = lista #No copia una lista (listax es un alias de lista)\n",
    "a = 2\n",
    "b = a # b es copia de a"
   ]
  },
  {
   "cell_type": "code",
   "execution_count": null,
   "metadata": {},
   "outputs": [],
   "source": [
    "lista = ['1', '2', '3', '4', '5']\n",
    "print(lista[1:3])\n",
    "print(lista[1:])\n",
    "print(lista[:1])\n",
    "print(lista[:])\n",
    "\n"
   ]
  },
  {
   "cell_type": "code",
   "execution_count": null,
   "metadata": {},
   "outputs": [],
   "source": [
    "cad = 'Mi mama me mima\\n'.replace('\\n','')#QUITO DE LA CADENA EL CARACTER '\\n'\n",
    "print(cad)\n",
    "cad = cad[:len(cad)-1] # QUITA EL ULTIMO ELEMENTO DE LA CADENA\n",
    "print(cad)\n"
   ]
  },
  {
   "cell_type": "code",
   "execution_count": null,
   "metadata": {},
   "outputs": [],
   "source": [
    "cadena = \"12345A\"\n",
    "# indice: 012345\n",
    "print(cadena[1:])\n",
    "print(cadena[:3])\n",
    "x  = len(cadena)-1\n",
    "print(cadena[x:])\n",
    "print(cadena[:len(cadena)-1])\n",
    "\n",
    "nombre = \"Juan Alfonso Carlos Miranda De Las Torres Pena\"\n",
    "print(nombre[:15])"
   ]
  },
  {
   "cell_type": "markdown",
   "metadata": {},
   "source": [
    "Como las listas son mutables, puedes cambiar los elementos utilizando el operador de corte:"
   ]
  },
  {
   "cell_type": "code",
   "execution_count": null,
   "metadata": {},
   "outputs": [],
   "source": [
    "lista = ['aaaa', 'bbbb', 'cccc', 'dddd', 'eeee']\n",
    "print(lista)\n",
    "lista[1:3] = ['Hola', 'Gente']\n",
    "print(lista)"
   ]
  },
  {
   "attachments": {},
   "cell_type": "markdown",
   "metadata": {},
   "source": [
    "## Insertar en una lista\n",
    "\n",
    "Las listas __son objetos__  \n",
    "Se puede usar el método insert para insertar un elemento en la lista de la siguiente manera:"
   ]
  },
  {
   "cell_type": "code",
   "execution_count": null,
   "metadata": {},
   "outputs": [],
   "source": [
    "lista = [1, 2, 3, 4, 5]\n",
    "#index   0  1  2  3  4 \n",
    "\n",
    "lista.insert(-44,'Hola') #[\"hola\",1, 2, 3, 4, 5]\n",
    "lista.insert(4,'pepe') #[\"hola\",1, 2, 3, \"pepe\",4, 5]\n",
    "lista.insert(len(lista),'Raul1')#['Alf', 'Hola', 1, 2, 3, 'pepe', 4, 5, 'Raul1']\n",
    "lista.insert(len(lista),'Raul2')#['Alf', 'Hola', 1, 2, 3, 'pepe', 4, 5, 'Raul1', 'Raul2']\n",
    "lista.insert(len(lista),'Raul3')#['Alf', 'Hola', 1, 2, 3, 'pepe', 4, 5, 'Raul1', 'Raul2', 'Raul3']\n",
    "lista.insert(len(lista),'Raul4')#['Alf', 'Hola', 1, 2, 3, 'pepe', 4, 5, 'Raul1', 'Raul2', 'Raul3', 'Raul4']\n",
    "lista.insert(len(lista),'Raul5')#......\n",
    "lista.insert(len(lista),'Raul6')\n",
    "lista.insert(len(lista),'Raul7')\n",
    "lista.insert(0,\"Alf\")\n",
    "\n",
    "print(lista)"
   ]
  },
  {
   "cell_type": "markdown",
   "metadata": {},
   "source": [
    "El índice del elemento insertado empezara desde cero."
   ]
  },
  {
   "cell_type": "markdown",
   "metadata": {},
   "source": [
    "## Agregar a una lista al final\n",
    "\n",
    "Para agregar un elemento a una lista, puedes utilizar el método de agregar:\n"
   ]
  },
  {
   "cell_type": "code",
   "execution_count": null,
   "metadata": {},
   "outputs": [],
   "source": [
    "lista = ['one', 'two', 'three', 'four', 'five']\n",
    "lista.insert(len(lista),\"pepe\")\n",
    "lista.append(\"new ultimo\")\n",
    "print(lista)"
   ]
  },
  {
   "cell_type": "markdown",
   "metadata": {},
   "source": [
    "Puede agregar más de un elemento usando el método extend:"
   ]
  },
  {
   "cell_type": "code",
   "execution_count": null,
   "metadata": {},
   "outputs": [],
   "source": [
    "lista1 = ['one', 'two', 'three', 'four', 'five']\n",
    "print(\"antes:\",lista1)\n",
    "lista2 = [\"Hello\", \"Guys\"]\n",
    "lista1.extend(lista2)\n",
    "print(\"despues:\",lista1)\n",
    "print(lista2)"
   ]
  },
  {
   "cell_type": "markdown",
   "metadata": {},
   "source": [
    "## Ordenar una lista\n",
    "\n",
    "Para ordenar una lista, utiliza el método sort.  \n",
    "__OJO!!__ Para ordenar una lista tiene que tener todos sus elementos del mismo tipo"
   ]
  },
  {
   "cell_type": "code",
   "execution_count": null,
   "metadata": {},
   "outputs": [],
   "source": [
    "lista = ['cde', 'fgh', 'zbc', 'klm', 'opq']\n",
    "lista.sort(reverse=True) #ordena de mayor a menor sobre la misma lista!!!! (modifica a la lista)\n",
    "print(lista)"
   ]
  },
  {
   "cell_type": "code",
   "execution_count": null,
   "metadata": {},
   "outputs": [],
   "source": [
    "lista2 = [3, 5, 2.0, 2444444, 1]\n",
    "lista2.sort()\n",
    "print(lista2)"
   ]
  },
  {
   "cell_type": "markdown",
   "metadata": {},
   "source": [
    "## Invertir una lista\n",
    "\n",
    "Puedes invertir el orden de una lista en Python usando el método reverse de esta manera:"
   ]
  },
  {
   "cell_type": "code",
   "execution_count": null,
   "metadata": {},
   "outputs": [],
   "source": [
    "lista = [1, 2, 3, 4, 5]\n",
    "print(lista)\n",
    "lista.reverse()\n",
    "print(lista)\n",
    "lista = lista[:-1]\n",
    "print(lista)"
   ]
  },
  {
   "cell_type": "markdown",
   "metadata": {},
   "source": [
    "## Índice de un elemento\n",
    "\n",
    "Puede usar el método index para obtener el índice de un elemento así:  \n",
    "Si tiene más de un elemento con el mismo valor la función de índice devolverá el primer índice que coincida con el valor proporcionado."
   ]
  },
  {
   "cell_type": "code",
   "execution_count": null,
   "metadata": {},
   "outputs": [],
   "source": [
    "lista = ['one', 'two', 'three', 'four', 'five']\n",
    "#index    0       1       2        3      4\n",
    "if 'two' in lista:\n",
    "    print(lista.index('two'))\n",
    "else:\n",
    "    print(\"No esta!!!\")\n",
    "\n",
    "#print(lista.index('kjghhghjgt4wo'))"
   ]
  },
  {
   "cell_type": "markdown",
   "metadata": {},
   "source": [
    "## Eliminar un elemento\n",
    "\n",
    "Puede eliminar un elemento especificando el índice del elemento al método pop de la siguiente forma:"
   ]
  },
  {
   "cell_type": "code",
   "execution_count": null,
   "metadata": {},
   "outputs": [],
   "source": [
    "lista = ['one', 'two', 'three', 'four', 'five']\n",
    "#index =   0       1       2       3       4\n",
    "print(lista)\n",
    "elemento = lista[1] #NO SACO EL ELEMNTO\n",
    "eliminado = lista.pop(1) #SI!!!! SACO EL ELEMNTO\n",
    "print(lista)\n",
    "print(eliminado)"
   ]
  },
  {
   "cell_type": "markdown",
   "metadata": {},
   "source": [
    "Si no especificas un índice para el método pop, eliminará el último elemento."
   ]
  },
  {
   "cell_type": "code",
   "execution_count": null,
   "metadata": {},
   "outputs": [],
   "source": [
    "lista = ['one', 'two', 'three', 'four', 'five']\n",
    "eliminado = lista.pop()\n",
    "print(lista)\n",
    "print(eliminado)"
   ]
  },
  {
   "cell_type": "markdown",
   "metadata": {},
   "source": [
    "También se puede eliminar un elemento utilizando el método remove de la siguiente forma:"
   ]
  },
  {
   "cell_type": "code",
   "execution_count": null,
   "metadata": {},
   "outputs": [],
   "source": [
    "lista= ['one', 'two', 'three', 'four', 'five']\n",
    "elemento = 'three'\n",
    "if elemento in lista:\n",
    "    lista.remove(elemento)\n",
    "print(lista)"
   ]
  },
  {
   "cell_type": "markdown",
   "metadata": {},
   "source": [
    "Se Puede utilizar el operador __del__ para eliminar un elemento:"
   ]
  },
  {
   "cell_type": "code",
   "execution_count": null,
   "metadata": {},
   "outputs": [],
   "source": [
    "lista = ['one', 'two', 'three', 'four', 'five']\n",
    "del lista[2]\n",
    "print(lista)"
   ]
  },
  {
   "cell_type": "markdown",
   "metadata": {},
   "source": [
    "Además, se puede eliminar múltiples elementos usando un operador de corte como se muestra en la siguiente imagen:"
   ]
  },
  {
   "cell_type": "code",
   "execution_count": null,
   "metadata": {},
   "outputs": [],
   "source": [
    "lista = ['one', 'two', 'three', 'four', 'five']\n",
    "#index     0       1      2        3      4\n",
    "del lista[1:3]\n",
    "print(lista)\n",
    "\n"
   ]
  },
  {
   "cell_type": "markdown",
   "metadata": {},
   "source": [
    "## Funciones agregadas\n",
    "\n",
    "Python tiene algunas funciones agregadas integradas como:"
   ]
  },
  {
   "cell_type": "code",
   "execution_count": null,
   "metadata": {},
   "outputs": [],
   "source": [
    "lista = [5, 3, 2, 4, 1]\n",
    "print(len(lista))\n",
    "print(min(lista))\n",
    "print(max(lista))\n",
    "print(sum(lista))\n",
    "listax = ['a','e','i']\n",
    "#print(sum(listax))\n",
    "print(len(listax))\n",
    "print(max(listax))\n",
    "\n",
    "\n"
   ]
  },
  {
   "cell_type": "markdown",
   "metadata": {},
   "source": [
    "La función sum( ) funciona en elementos numéricos.\n",
    "Además, puede usar estas funciones (max ( ), len (), etc.) para manejar cadenas de caracteres."
   ]
  },
  {
   "cell_type": "code",
   "execution_count": null,
   "metadata": {},
   "outputs": [],
   "source": [
    "# lista = ['one', 'two', 'three', 'four', 'five']\n",
    "# lista2= ['one', 'two', 'three', 'four', 'five']\n",
    "\n",
    "# if (lista == lista2):\n",
    "#     print(\"match\")\n",
    "# else:\n",
    "#     print(\"No match\")\n",
    "\n",
    "l1 = [1,2]\n",
    "l2 = [1,2]\n",
    "\n",
    "if l1 == l2:\n",
    "    print(l1,l2,\"iguales\")\n",
    "\n",
    "\n",
    "l3 = [1,2,3]\n",
    "l4 = l3\n",
    "\n",
    "if l3 == l4:\n",
    "    print(\"iguales\",l3,l4)\n",
    "\n",
    "l4[0] = 1000\n",
    "\n",
    "print(l3,l4)"
   ]
  },
  {
   "cell_type": "markdown",
   "metadata": {},
   "source": [
    "## Listado de métodos de la clase list\n",
    "\n",
    "|Método                  |Descripción|\n",
    "|--                          |--|\n",
    "|append()                    |Añade un nuevo elemento al final de la lista.\n",
    "|extend()                    |Añade un grupo de elementos (iterables) al final de la lista.\n",
    "|insert(indice, elemento)    |Inserta un elemento en una posición concreta de la lista.\n",
    "|remove(elemento)            |Elimina la primera ocurrencia del elemento en la lista.\n",
    "|pop([i])                    |Obtiene y elimina el elemento de la lista en la posición i. Si no se especifica, obtiene y elimina el último elemento.\n",
    "|clear()                     |Borra todos los elementos de la lista.\n",
    "|index(elemento)             |Obtiene el índice de la primera ocurrencia del elemento en la lista. Si el elemento no se encuentra, se lanza la excepción                                 ValueError.\n",
    "|count(elemento)             |Devuelve el número de ocurrencias del elemento en la lista.\n",
    "|sort()                      |Ordena los elementos de la lista utilizando el operador <.\n",
    "|reverse()                   |Obtiene los elementos de la lista en orden inverso.\n",
    "|copy()                      |Devuelve una copia poco profunda de la lista."
   ]
  },
  {
   "cell_type": "markdown",
   "metadata": {},
   "source": [
    "## Operaciones matemáticas en las listas\n",
    "\n",
    "Puedes utilizar el signo más (+) para combinar listas de la siguiente forma:"
   ]
  },
  {
   "cell_type": "code",
   "execution_count": null,
   "metadata": {},
   "outputs": [],
   "source": [
    "lista1 = [1, 2, 3]\n",
    "lista2 = [4, 5, 6]\n",
    "print(lista1 + lista2)"
   ]
  },
  {
   "cell_type": "markdown",
   "metadata": {},
   "source": [
    "Además, puedes repetir una lista usando el operador de multiplicar de esta manera:"
   ]
  },
  {
   "cell_type": "code",
   "execution_count": null,
   "metadata": {},
   "outputs": [],
   "source": [
    "list1 = [1, 2, 3]\n",
    "print(list1 * 5)"
   ]
  },
  {
   "cell_type": "markdown",
   "metadata": {},
   "source": [
    "## Listas y cadenas\n",
    "\n",
    "Para convertir una cadena en caracteres separados, puede usar la función list de esta forma:"
   ]
  },
  {
   "cell_type": "code",
   "execution_count": null,
   "metadata": {},
   "outputs": [],
   "source": [
    "un_string = \"LikeGeeks\"\n",
    "lista = list(un_string)\n",
    "print(lista,un_string)"
   ]
  },
  {
   "cell_type": "markdown",
   "metadata": {},
   "source": [
    "La función list se utiliza para dividir una cadena en letras individuales.\n",
    "\n",
    "Se puede usar el método split para dividir el texto en palabras:"
   ]
  },
  {
   "cell_type": "code",
   "execution_count": null,
   "metadata": {},
   "outputs": [],
   "source": [
    "un_string = \"La casa grande es una pelicula Argentina\"\n",
    "lista = un_string.split()\n",
    "print(lista)"
   ]
  },
  {
   "cell_type": "markdown",
   "metadata": {},
   "source": [
    "## Unir una lista\n",
    "\n",
    "El proceso opuesto de dividir una cadena en una lista de cadenas es unirlas para formar una cadena.\n",
    "\n",
    "Se puede unir los elementos de la lista para hacer una cadena utilizando el método join de esta manera:"
   ]
  },
  {
   "cell_type": "code",
   "execution_count": null,
   "metadata": {},
   "outputs": [],
   "source": [
    "lista = ['Argentina', 'es', 'un', 'país','de','America','del','Sur']\n",
    "delimitador = ' '\n",
    "salida = delimitador.join(lista)\n",
    "print(salida)\n",
    "\n",
    "\n",
    "print(\"pepe\".join(lista))"
   ]
  },
  {
   "cell_type": "markdown",
   "metadata": {},
   "source": [
    "## Aliasing\n",
    "\n",
    "Cuando dos variables hacen referencia al mismo objeto como se muestra a continuación:"
   ]
  },
  {
   "cell_type": "code",
   "execution_count": null,
   "metadata": {},
   "outputs": [],
   "source": [
    "lista = ['Argentina', 'es', 'un', 'país','de','America','del','Sur']\n",
    "lista2 = lista"
   ]
  },
  {
   "cell_type": "markdown",
   "metadata": {},
   "source": [
    "Aliasing significa que el objeto tiene más de una referencia con más de un nombre."
   ]
  },
  {
   "cell_type": "code",
   "execution_count": null,
   "metadata": {},
   "outputs": [],
   "source": [
    "lista2[3] = \"pepe\"\n",
    "print(lista)"
   ]
  },
  {
   "cell_type": "code",
   "execution_count": null,
   "metadata": {},
   "outputs": [],
   "source": []
  }
 ],
 "metadata": {
  "kernelspec": {
   "display_name": "Python 3.8.0 32-bit",
   "language": "python",
   "name": "python3"
  },
  "language_info": {
   "codemirror_mode": {
    "name": "ipython",
    "version": 3
   },
   "file_extension": ".py",
   "mimetype": "text/x-python",
   "name": "python",
   "nbconvert_exporter": "python",
   "pygments_lexer": "ipython3",
   "version": "3.10.4"
  },
  "metadata": {
   "interpreter": {
    "hash": "7b9fa9be9f35fc4099bf87bdbcb3f8dc895fcf48cc379b468ddaca34a9c94481"
   }
  },
  "vscode": {
   "interpreter": {
    "hash": "4b06a7d30f8880e1f6f0c8226eae974545c56aa40bb6c4ae44746c266ddc76fe"
   }
  }
 },
 "nbformat": 4,
 "nbformat_minor": 4
}
