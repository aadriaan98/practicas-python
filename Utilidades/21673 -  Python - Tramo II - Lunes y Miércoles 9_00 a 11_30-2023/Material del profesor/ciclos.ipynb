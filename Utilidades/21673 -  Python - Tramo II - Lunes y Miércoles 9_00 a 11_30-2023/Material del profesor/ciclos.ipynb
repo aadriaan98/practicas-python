{
 "cells": [
  {
   "cell_type": "markdown",
   "metadata": {},
   "source": [
    "## Introducción a los Ciclos en Python  \n",
    "\n",
    "En Python, los ciclos son estructuras de control que permiten repetir un bloque de código varias veces. Hay dos tipos principales de ciclos: while y for. En este cuaderno, exploraremos ambos y discutiremos su velocidad y uso de la memoria.\n",
    "\n",
    "#### El Ciclo while  \n",
    "El ciclo while se utiliza para repetir un bloque de código mientras se cumpla una condición específica. Su estructura general es la siguiente:"
   ]
  },
  {
   "cell_type": "code",
   "execution_count": 2,
   "metadata": {},
   "outputs": [],
   "source": [
    "condicion = True\n",
    "contador = 0\n",
    "while condicion:\n",
    "    # Código a repetir mientras la condición sea verdadera\n",
    "    contador += 1\n",
    "    if contador == 1000000:\n",
    "        condicion = False\n",
    "\n",
    "contador = 0        \n",
    "while True:\n",
    "    # Código a repetir mientras la condición sea verdadera\n",
    "    contador += 1\n",
    "    if contador == 1000000:\n",
    "        break # rompe el ciclo\n"
   ]
  },
  {
   "cell_type": "markdown",
   "metadata": {},
   "source": [
    "#### Velocidad del Ciclo while  \n",
    "\n",
    "La velocidad del ciclo while puede variar dependiendo de la condición. Si la condición se cumple inmediatamente, el ciclo puede ejecutarse una sola vez. Si la condición nunca se cumple, el ciclo nunca se ejecutará, lo que puede ser eficiente.\n",
    "\n",
    "#### Uso de Memoria del Ciclo while  \n",
    "\n",
    "El ciclo while utiliza memoria para almacenar la condición y otras variables relacionadas con la ejecución del ciclo. La cantidad de memoria utilizada depende de la complejidad de la condición y las variables involucradas.\n",
    "\n",
    "#### El Ciclo for  \n",
    "\n",
    "El ciclo for se utiliza para iterar sobre una secuencia (como una lista, una tupla, un rango, etc.) y ejecutar un bloque de código para cada elemento de la secuencia. Su estructura general es la siguiente:"
   ]
  },
  {
   "cell_type": "code",
   "execution_count": 3,
   "metadata": {},
   "outputs": [
    {
     "name": "stdout",
     "output_type": "stream",
     "text": [
      "1\n",
      "2\n",
      "3\n",
      "4\n",
      "5\n"
     ]
    }
   ],
   "source": [
    "secuencia = (1, 2, 3, 4, 5)\n",
    "for elemento in secuencia:\n",
    "    # Código a ejecutar para cada elemento\n",
    "    print(elemento)\n"
   ]
  },
  {
   "cell_type": "markdown",
   "metadata": {},
   "source": [
    "#### Velocidad del Ciclo for  \n",
    "\n",
    "El ciclo for tiende a ser más rápido que el ciclo while cuando se trata de iterar sobre secuencias predefinidas, ya que no depende de una condición que puede cambiar en cada iteración.\n",
    "\n",
    "#### Uso de Memoria del Ciclo for  \n",
    "\n",
    "El ciclo for también utiliza memoria, principalmente para almacenar la secuencia y la variable de elemento. La cantidad de memoria utilizada depende del tamaño de la secuencia.\n",
    "\n",
    "Ejemplos Prácticos"
   ]
  },
  {
   "cell_type": "code",
   "execution_count": 1,
   "metadata": {},
   "outputs": [
    {
     "name": "stdout",
     "output_type": "stream",
     "text": [
      "Ciclo while: 0\n",
      "Ciclo while: 1\n",
      "Ciclo while: 2\n",
      "Ciclo while: 3\n",
      "Ciclo while: 4\n",
      "Ciclo for: 1\n",
      "Ciclo for: 2\n",
      "Ciclo for: 3\n",
      "Ciclo for: 4\n",
      "Ciclo for: 5\n"
     ]
    }
   ],
   "source": [
    "contador = 0\n",
    "while contador < 5:\n",
    "    print(f\"Ciclo while: {contador}\")\n",
    "    contador += 1\n",
    "\n",
    "mi_lista = list((1, 2, 3, 4, 5))\n",
    "for elemento in mi_lista:\n",
    "    print(f\"Ciclo for: {elemento}\")\n"
   ]
  },
  {
   "cell_type": "markdown",
   "metadata": {},
   "source": [
    "#### Objetos Iterables en Python  \n",
    "\n",
    "Python ofrece una amplia variedad de objetos iterables. Aquí tienes algunos de los más comunes:\n",
    "\n",
    "- Listas: Una secuencia ordenada de elementos."
   ]
  },
  {
   "cell_type": "code",
   "execution_count": 6,
   "metadata": {},
   "outputs": [
    {
     "name": "stdout",
     "output_type": "stream",
     "text": [
      "mi_lista: [10, 20, 30]\n",
      "La suma es:  60\n"
     ]
    }
   ],
   "source": [
    "mi_lista = [10, 20, 30]\n",
    "\n",
    "print(f\"mi_lista: {mi_lista}\")\n",
    "suma = 0\n",
    "for numero in mi_lista:\n",
    "    suma += numero\n",
    "print(\"La suma es: \",suma)"
   ]
  },
  {
   "cell_type": "markdown",
   "metadata": {},
   "source": [
    "- Tuplas: Secuencias inmutables de elementos."
   ]
  },
  {
   "cell_type": "code",
   "execution_count": 6,
   "metadata": {},
   "outputs": [
    {
     "name": "stdout",
     "output_type": "stream",
     "text": [
      "mi_tupla: (1, 2, 3)\n",
      "2\n"
     ]
    }
   ],
   "source": [
    "mi_tupla = (1, 2, 3)\n",
    "print(\"mi_tupla:\",mi_tupla)\n",
    "for n in mi_tupla:\n",
    "    if n%2 == 0:\n",
    "        print(n)"
   ]
  },
  {
   "cell_type": "markdown",
   "metadata": {},
   "source": [
    "- Cadenas de Texto: Secuencias de caracteres."
   ]
  },
  {
   "cell_type": "code",
   "execution_count": 7,
   "metadata": {},
   "outputs": [
    {
     "name": "stdout",
     "output_type": "stream",
     "text": [
      "P - y - t - h - o - n - "
     ]
    }
   ],
   "source": [
    "mi_cadena = \"Python\"\n",
    "for letra in mi_cadena:\n",
    "    print(letra,end=' - ')"
   ]
  },
  {
   "cell_type": "markdown",
   "metadata": {},
   "source": [
    "- Rangos: Secuencias de números enteros."
   ]
  },
  {
   "cell_type": "code",
   "execution_count": 10,
   "metadata": {},
   "outputs": [
    {
     "name": "stdout",
     "output_type": "stream",
     "text": [
      "mi_rango: range(1, 6)\n",
      "[1, 2, 3, 4, 5]\n",
      "(1, 2, 3, 4, 5)\n",
      "[1, 2, 3, 4, 5]\n",
      "12345"
     ]
    }
   ],
   "source": [
    "mi_rango = range(1, 6)\n",
    "print(f\"mi_rango: {mi_rango}\")\n",
    "print(f\"{list(mi_rango)}\")\n",
    "print(f\"{tuple(mi_rango)}\")\n",
    "print(f\"{str(list(mi_rango))}\")\n",
    "for x in mi_rango:\n",
    "    print(x,end='')"
   ]
  }
 ],
 "metadata": {
  "kernelspec": {
   "display_name": "Python 3",
   "language": "python",
   "name": "python3"
  },
  "language_info": {
   "codemirror_mode": {
    "name": "ipython",
    "version": 3
   },
   "file_extension": ".py",
   "mimetype": "text/x-python",
   "name": "python",
   "nbconvert_exporter": "python",
   "pygments_lexer": "ipython3",
   "version": "3.10.4"
  },
  "orig_nbformat": 4
 },
 "nbformat": 4,
 "nbformat_minor": 2
}
